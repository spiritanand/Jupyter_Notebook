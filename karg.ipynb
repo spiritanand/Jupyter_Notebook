{
 "cells": [
  {
   "cell_type": "code",
   "execution_count": 1,
   "metadata": {},
   "outputs": [],
   "source": [
    "def myfunc(*args):\n",
    "    #to give 5 percent of the total sum\n",
    "    return sum(args)*0.05"
   ]
  },
  {
   "cell_type": "code",
   "execution_count": 2,
   "metadata": {},
   "outputs": [
    {
     "data": {
      "text/plain": [
       "7.5"
      ]
     },
     "execution_count": 2,
     "metadata": {},
     "output_type": "execute_result"
    }
   ],
   "source": [
    "myfunc(10,20,30,40,50)"
   ]
  },
  {
   "cell_type": "code",
   "execution_count": 8,
   "metadata": {},
   "outputs": [],
   "source": [
    "def myfunc2(**kwargs):\n",
    "    print(\"My vegetable of choice is {},My fruit of choice is {}\".format(kwargs[\"vegetable\"],kwargs[\"fruit\"]))"
   ]
  },
  {
   "cell_type": "code",
   "execution_count": 9,
   "metadata": {},
   "outputs": [
    {
     "name": "stdout",
     "output_type": "stream",
     "text": [
      "My vegetable of choice is Ladyfinger,My fruit of choice is Mango\n"
     ]
    }
   ],
   "source": [
    "myfunc2(vegetable=\"Ladyfinger\",fruit=\"Mango\")"
   ]
  },
  {
   "cell_type": "code",
   "execution_count": 56,
   "metadata": {},
   "outputs": [],
   "source": [
    "def myfunc3(*args,**kwargs):\n",
    "    v=0\n",
    "    for item in args:\n",
    "        print(\"I would like {} {}\".format(args[v],kwargs[\"food\"]))\n",
    "        v=v+1\n",
    "                "
   ]
  },
  {
   "cell_type": "code",
   "execution_count": 57,
   "metadata": {},
   "outputs": [
    {
     "name": "stdout",
     "output_type": "stream",
     "text": [
      "I would like 10 Fish\n",
      "1\n",
      "I would like 20 Fish\n",
      "2\n",
      "I would like 30 Fish\n",
      "3\n"
     ]
    }
   ],
   "source": [
    "myfunc3(10,20,30,food=\"Fish\",eat=\"Eggs\")"
   ]
  },
  {
   "cell_type": "code",
   "execution_count": 46,
   "metadata": {},
   "outputs": [],
   "source": [
    "list1=[1,24,5,6,7,8,9,78]"
   ]
  },
  {
   "cell_type": "code",
   "execution_count": 58,
   "metadata": {},
   "outputs": [],
   "source": [
    "mystring=\"Hello\""
   ]
  },
  {
   "cell_type": "code",
   "execution_count": 59,
   "metadata": {},
   "outputs": [
    {
     "name": "stdout",
     "output_type": "stream",
     "text": [
      "H\n",
      "e\n",
      "l\n",
      "l\n",
      "o\n"
     ]
    }
   ],
   "source": [
    "for item in mystring:\n",
    "    print(item)"
   ]
  },
  {
   "cell_type": "code",
   "execution_count": 60,
   "metadata": {},
   "outputs": [],
   "source": [
    "def myfunc(mystring):\n",
    "    v=0\n",
    "    string1=\"\"\n",
    "    for item in mystring:\n",
    "        if v%2==0:\n",
    "            item.lower()\n",
    "            string1=string1+item\n",
    "        else:\n",
    "            item.upper()\n",
    "            string1=string1+item\n",
    "        v=v+1\n",
    "        return string1"
   ]
  },
  {
   "cell_type": "code",
   "execution_count": 61,
   "metadata": {},
   "outputs": [
    {
     "data": {
      "text/plain": [
       "'S'"
      ]
     },
     "execution_count": 61,
     "metadata": {},
     "output_type": "execute_result"
    }
   ],
   "source": [
    "myfunc(\"SuryanshAnand\")"
   ]
  },
  {
   "cell_type": "code",
   "execution_count": 69,
   "metadata": {},
   "outputs": [
    {
     "name": "stdout",
     "output_type": "stream",
     "text": [
      "sUrAnAnD\n"
     ]
    }
   ],
   "source": [
    "mystr=\"SUrAnand\"\n",
    "v=0\n",
    "string1=\"\"\n",
    "for item in mystr:\n",
    "        if v%2==0:\n",
    "            string1=string1+item.lower()\n",
    "        else:\n",
    "            string1=string1+item.upper()\n",
    "        v=v+1\n",
    "print(string1)"
   ]
  }
 ],
 "metadata": {
  "kernelspec": {
   "display_name": "Python 3",
   "language": "python",
   "name": "python3"
  },
  "language_info": {
   "codemirror_mode": {
    "name": "ipython",
    "version": 3
   },
   "file_extension": ".py",
   "mimetype": "text/x-python",
   "name": "python",
   "nbconvert_exporter": "python",
   "pygments_lexer": "ipython3",
   "version": "3.7.3"
  }
 },
 "nbformat": 4,
 "nbformat_minor": 2
}
