{
 "cells": [
  {
   "cell_type": "code",
   "execution_count": 28,
   "metadata": {},
   "outputs": [],
   "source": [
    "#The main function\n",
    "def hello():\n",
    "    print(\"Hello! My name is Suryansh Anand.\")\n",
    "    \n",
    "    #This is a local function inside the main hello() function\n",
    "    def greet():\n",
    "        return print(\"\\tThis is inside the greet() function ,ofcourse indie hello().\")\n",
    "    \n",
    "    #This is a local function inside the main hello() function\n",
    "    def welcome():\n",
    "        return print(\"\\tThis is inside the welcome() function , ofcourse indie hello().\")\n",
    "    \n",
    "    # Local functions cannot be accessed outside the main function unless they are *returned* \n",
    "    \n",
    "    greet()\n",
    "    welcome()\n",
    "    print (\"This is the end of the main function hello().\")"
   ]
  },
  {
   "cell_type": "code",
   "execution_count": 29,
   "metadata": {},
   "outputs": [
    {
     "name": "stdout",
     "output_type": "stream",
     "text": [
      "Hello! My name is Suryansh Anand.\n",
      "\tThis is inside the greet() function ,ofcourse indie hello().\n",
      "\tThis is inside the welcome() function , ofcourse indie hello().\n",
      "This is the end of the main function hello().\n"
     ]
    }
   ],
   "source": [
    "hello()"
   ]
  },
  {
   "cell_type": "code",
   "execution_count": 124,
   "metadata": {},
   "outputs": [],
   "source": [
    "#The main function\n",
    "def hello():\n",
    "    print(\"Hello! My name is Suryansh Anand.Before the greet()\")\n",
    "    \n",
    "    #This is a local function defined inside the main hello() function\n",
    "    def greet():\n",
    "        return \"\\tThis is inside the greet() function ,ofcourse inside hello().\"\n",
    "    \n",
    "    # Local functions cannot be accessed outside the main function unless they are *returned* \n",
    "    \n",
    "    print (\"This is the end of the main function hello().After the greet()\")\n",
    "    \n",
    "    # Here we are returning the greet() function so that we can assign it to a variable and use it\n",
    "    return greet"
   ]
  },
  {
   "cell_type": "code",
   "execution_count": 126,
   "metadata": {},
   "outputs": [
    {
     "name": "stdout",
     "output_type": "stream",
     "text": [
      "Hello! My name is Suryansh Anand.Before the greet()\n",
      "This is the end of the main function hello().After the greet()\n"
     ]
    }
   ],
   "source": [
    "# We are assigning the function greet to the sup variable so that it can be called and used\n",
    "# Here we are storing greet in the sup variable so that it can be called separately afterwards.\n",
    "sup= hello()"
   ]
  },
  {
   "cell_type": "code",
   "execution_count": 127,
   "metadata": {},
   "outputs": [
    {
     "name": "stdout",
     "output_type": "stream",
     "text": [
      "\tThis is inside the greet() function ,ofcourse inside hello().\n"
     ]
    }
   ],
   "source": [
    "print(sup())"
   ]
  },
  {
   "cell_type": "code",
   "execution_count": 68,
   "metadata": {},
   "outputs": [],
   "source": [
    "# Here we are going to pass a function inside another function\n",
    "def hello():\n",
    "    return \"Hi Sur! It is me.\""
   ]
  },
  {
   "cell_type": "code",
   "execution_count": 69,
   "metadata": {},
   "outputs": [],
   "source": [
    "def hello_passer(any_func):\n",
    "    print(\"This is the code that is written in hello_passer\")\n",
    "    print(\"\\t\"+any_func())"
   ]
  },
  {
   "cell_type": "code",
   "execution_count": 70,
   "metadata": {},
   "outputs": [
    {
     "name": "stdout",
     "output_type": "stream",
     "text": [
      "This is the code that is written in hello_passer\n",
      "\tHi Sur! It is me.\n"
     ]
    }
   ],
   "source": [
    "hello_passer(hello)"
   ]
  },
  {
   "cell_type": "code",
   "execution_count": 111,
   "metadata": {},
   "outputs": [],
   "source": [
    "# Now we are going to see what is going in the background , when a decorator is used.\n",
    "def decorator_used(any_func):\n",
    "    \n",
    "    def wrapping_it():\n",
    "        \n",
    "        print(\"This code has been added before the orignal function\")\n",
    "        \n",
    "        any_func()\n",
    "        \n",
    "        print(\"This code has been added after the orignal function that needed decoration\")\n",
    "    \n",
    "    # Here we are not returning the function wrapping_it() rather \n",
    "    # we are returning it as an object i.e. wrapping_it\n",
    "    return wrapping_it\n",
    "\n",
    "def decorator_needed():\n",
    "    print(\"I am so boring. I need some decoration.\")"
   ]
  },
  {
   "cell_type": "code",
   "execution_count": 112,
   "metadata": {},
   "outputs": [
    {
     "name": "stdout",
     "output_type": "stream",
     "text": [
      "I am so boring. I need some decoration.\n"
     ]
    }
   ],
   "source": [
    "decorator_needed()"
   ]
  },
  {
   "cell_type": "code",
   "execution_count": 113,
   "metadata": {},
   "outputs": [],
   "source": [
    "decorated_func = decorator_used(decorator_needed)"
   ]
  },
  {
   "cell_type": "code",
   "execution_count": 128,
   "metadata": {},
   "outputs": [
    {
     "name": "stdout",
     "output_type": "stream",
     "text": [
      "This code has been added before the orignal function\n",
      "I am so boring. I need some decoration.\n",
      "This code has been added after the orignal function that needed decoration\n"
     ]
    }
   ],
   "source": [
    "decorated_func()"
   ]
  },
  {
   "cell_type": "code",
   "execution_count": 132,
   "metadata": {},
   "outputs": [],
   "source": [
    "# Now we will use @ to simply call the decorator and decorate the boring function.\n",
    "@decorator_used\n",
    "def decorator_needed():\n",
    "    print(\"I am so boring. I need some decoration.\")"
   ]
  },
  {
   "cell_type": "code",
   "execution_count": 133,
   "metadata": {},
   "outputs": [],
   "source": [
    "decoration_done = decorator_needed"
   ]
  },
  {
   "cell_type": "code",
   "execution_count": 134,
   "metadata": {},
   "outputs": [
    {
     "name": "stdout",
     "output_type": "stream",
     "text": [
      "This code has been added before the orignal function\n",
      "I am so boring. I need some decoration.\n",
      "This code has been added after the orignal function that needed decoration\n"
     ]
    }
   ],
   "source": [
    "# Now we wll run the newly decorated function\n",
    "decoration_done()"
   ]
  },
  {
   "cell_type": "code",
   "execution_count": 135,
   "metadata": {},
   "outputs": [],
   "source": [
    "def decorator_needed():\n",
    "    print(\"I am so boring. I need some decoration.\")"
   ]
  },
  {
   "cell_type": "code",
   "execution_count": 137,
   "metadata": {},
   "outputs": [
    {
     "name": "stdout",
     "output_type": "stream",
     "text": [
      "I am so boring. I need some decoration.\n"
     ]
    }
   ],
   "source": [
    "decorator_needed()"
   ]
  },
  {
   "cell_type": "code",
   "execution_count": 138,
   "metadata": {},
   "outputs": [
    {
     "name": "stdout",
     "output_type": "stream",
     "text": [
      "This code has been added before the orignal function\n",
      "I am so boring. I need some decoration.\n",
      "This code has been added after the orignal function that needed decoration\n"
     ]
    }
   ],
   "source": [
    "decoration_done()"
   ]
  }
 ],
 "metadata": {
  "kernelspec": {
   "display_name": "Python 3",
   "language": "python",
   "name": "python3"
  },
  "language_info": {
   "codemirror_mode": {
    "name": "ipython",
    "version": 3
   },
   "file_extension": ".py",
   "mimetype": "text/x-python",
   "name": "python",
   "nbconvert_exporter": "python",
   "pygments_lexer": "ipython3",
   "version": "3.7.3"
  }
 },
 "nbformat": 4,
 "nbformat_minor": 2
}
