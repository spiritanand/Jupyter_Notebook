{
 "cells": [
  {
   "cell_type": "markdown",
   "metadata": {},
   "source": [
    "# Iterators"
   ]
  },
  {
   "cell_type": "code",
   "execution_count": 51,
   "metadata": {},
   "outputs": [],
   "source": [
    "# This is an iterable object not an iterator\n",
    "the_best = \"Lionel Messi\""
   ]
  },
  {
   "cell_type": "code",
   "execution_count": 52,
   "metadata": {},
   "outputs": [
    {
     "name": "stdout",
     "output_type": "stream",
     "text": [
      "['__add__', '__class__', '__contains__', '__delattr__', '__dir__', '__doc__', '__eq__', '__format__', '__ge__', '__getattribute__', '__getitem__', '__getnewargs__', '__gt__', '__hash__', '__init__', '__init_subclass__', '__iter__', '__le__', '__len__', '__lt__', '__mod__', '__mul__', '__ne__', '__new__', '__reduce__', '__reduce_ex__', '__repr__', '__rmod__', '__rmul__', '__setattr__', '__sizeof__', '__str__', '__subclasshook__', 'capitalize', 'casefold', 'center', 'count', 'encode', 'endswith', 'expandtabs', 'find', 'format', 'format_map', 'index', 'isalnum', 'isalpha', 'isascii', 'isdecimal', 'isdigit', 'isidentifier', 'islower', 'isnumeric', 'isprintable', 'isspace', 'istitle', 'isupper', 'join', 'ljust', 'lower', 'lstrip', 'maketrans', 'partition', 'replace', 'rfind', 'rindex', 'rjust', 'rpartition', 'rsplit', 'rstrip', 'split', 'splitlines', 'startswith', 'strip', 'swapcase', 'title', 'translate', 'upper', 'zfill']\n",
      "\n",
      "Here we will see that this object(here a str, could be a list,tuple or any other) does not have the\n",
      "__next__ method . Hence it can be confirmed that it is not an iterator.\n",
      "But it does have an __iter__ method(which means that it is an iterable object), using this method \n",
      "we can convert this iterable object into an iterator.\n",
      "\n"
     ]
    }
   ],
   "source": [
    "print(dir(the_best))\n",
    "print(\"\"\"\n",
    "Here we will see that this object(here a str, could be a list,tuple or any other) does not have the\n",
    "__next__ method . Hence it can be confirmed that it is not an iterator.\n",
    "But it does have an __iter__ method(which means that it is an iterable object), using this method \n",
    "we can convert this iterable object into an iterator.\n",
    "\"\"\")"
   ]
  },
  {
   "cell_type": "code",
   "execution_count": 57,
   "metadata": {},
   "outputs": [
    {
     "name": "stdout",
     "output_type": "stream",
     "text": [
      "['__class__', '__delattr__', '__dir__', '__doc__', '__eq__', '__format__', '__ge__', '__getattribute__', '__gt__', '__hash__', '__init__', '__init_subclass__', '__iter__', '__le__', '__length_hint__', '__lt__', '__ne__', '__new__', '__next__', '__reduce__', '__reduce_ex__', '__repr__', '__setattr__', '__setstate__', '__sizeof__', '__str__', '__subclasshook__']\n",
      "\n",
      "Now we have converted the iterable object to an iterator. \n",
      "Here we will see that this object does have the __next__ method.\n",
      "Hence it can be confirmed that this object is an iterator.\n",
      "An iterator is an object with a state so that it remembers where it is during iteration.\n",
      "They can also get their next value using the __next__ dunder method.\n",
      "We can see that this also has an __iter__ method (as it is also an iterable object), but the main\n",
      "difference here is that here the __iter__ method just returns the same objects itself i.e., 'self'.\n",
      "\n"
     ]
    }
   ],
   "source": [
    "iter_the_best=the_best.__iter__()\n",
    "print(dir(iter_the_best))\n",
    "print(\"\"\"\n",
    "Now we have converted the iterable object to an iterator. \n",
    "Here we will see that this object does have the __next__ method.\n",
    "Hence it can be confirmed that this object is an iterator.\n",
    "An iterator is an object with a state so that it remembers where it is during iteration.\n",
    "They can also get their next value using the __next__ dunder method.\n",
    "We can see that this also has an __iter__ method (as it is also an iterable object), but the main\n",
    "difference here is that here the __iter__ method just returns the same objects itself i.e., 'self'.\n",
    "\"\"\")"
   ]
  },
  {
   "cell_type": "code",
   "execution_count": 58,
   "metadata": {},
   "outputs": [
    {
     "name": "stdout",
     "output_type": "stream",
     "text": [
      "L\n",
      "i\n",
      "o\n",
      "n\n",
      "e\n",
      "l\n"
     ]
    }
   ],
   "source": [
    "# So now we can use the __next__ method to get the next item in the iterator \"iter_the_best\" \n",
    "print(next(iter_the_best))\n",
    "print(next(iter_the_best))\n",
    "print(next(iter_the_best))\n",
    "print(next(iter_the_best))\n",
    "print(next(iter_the_best))\n",
    "print(next(iter_the_best))"
   ]
  },
  {
   "cell_type": "code",
   "execution_count": 59,
   "metadata": {},
   "outputs": [
    {
     "name": "stdout",
     "output_type": "stream",
     "text": [
      " \n"
     ]
    }
   ],
   "source": [
    "print(next(iter_the_best))\n",
    "# The blank space in between"
   ]
  },
  {
   "cell_type": "code",
   "execution_count": 60,
   "metadata": {},
   "outputs": [
    {
     "name": "stdout",
     "output_type": "stream",
     "text": [
      "M\n",
      "e\n",
      "s\n",
      "s\n",
      "i\n"
     ]
    }
   ],
   "source": [
    "print(next(iter_the_best))\n",
    "print(next(iter_the_best))\n",
    "print(next(iter_the_best))\n",
    "print(next(iter_the_best))\n",
    "print(next(iter_the_best))"
   ]
  },
  {
   "cell_type": "markdown",
   "metadata": {},
   "source": [
    "The iterators can only go \"forward\" (by calling next) they cannot go backwards or reset.\n",
    "If you want to reset then create a new object from scratch.\n",
    "Iterators do not need to end. They can go on for as long as we like."
   ]
  },
  {
   "cell_type": "markdown",
   "metadata": {},
   "source": [
    "### Practical uses of Iterators :-\n",
    "1. We can add these methods to our own class and make them iterable themselves."
   ]
  },
  {
   "cell_type": "code",
   "execution_count": 62,
   "metadata": {},
   "outputs": [],
   "source": [
    "# Here we are creating our own iterator which gives us the numbers in the range [Start - End].\n",
    "# This iterator acts like the built in function range.\n",
    "class MyRange:\n",
    "    \n",
    "    # This is the counter variable.\n",
    "    def __init__(self,start,end):\n",
    "        self.num = 1\n",
    "        self.start = start\n",
    "        self.end = end\n",
    "     \n",
    "    # This method is used as the object of the iterator\n",
    "    # We know that the iter method has to return an iterator(an object that has a __next__ dunder method.)\n",
    "    # So hence, we can return self as we can create a __next__ method in this class itself.\n",
    "    def __iter__(self):\n",
    "        return self\n",
    "    \n",
    "    # This method gives us the next value while iteration\n",
    "    def __next__(self):\n",
    "        if self.start < self.end:\n",
    "            val = self.start\n",
    "            self.start += 1\n",
    "            return val\n",
    "        else:\n",
    "            raise StopIteration"
   ]
  },
  {
   "cell_type": "code",
   "execution_count": 66,
   "metadata": {},
   "outputs": [],
   "source": [
    "# Creating an object of MyRange class\n",
    "values = MyRange(1,10)"
   ]
  },
  {
   "cell_type": "code",
   "execution_count": 67,
   "metadata": {},
   "outputs": [
    {
     "name": "stdout",
     "output_type": "stream",
     "text": [
      "1\n",
      "2\n",
      "3\n",
      "4\n",
      "5\n",
      "6\n",
      "7\n",
      "8\n",
      "9\n"
     ]
    }
   ],
   "source": [
    "print(next(values))\n",
    "print(next(values))\n",
    "for i in values:\n",
    "    print(i)"
   ]
  },
  {
   "cell_type": "code",
   "execution_count": 68,
   "metadata": {},
   "outputs": [
    {
     "name": "stdout",
     "output_type": "stream",
     "text": [
      "1\n",
      "2\n",
      "3\n",
      "4\n",
      "5\n",
      "6\n",
      "7\n",
      "8\n",
      "9\n"
     ]
    }
   ],
   "source": [
    "# Now we are printing for the same input using the built in function range.\n",
    "for i in range(1,10):\n",
    "    print(i)"
   ]
  },
  {
   "cell_type": "markdown",
   "metadata": {},
   "source": [
    "# Generators\n",
    "They look like a normal function except that, they yield values one by one unlike returning the whole result.They are used to create easy to read iterators. \n",
    "They are iterators as well.The __next__ and the __iter__ dunder methods are created automatically.\n",
    "\n",
    "## Advantages :-\n",
    "1. It is more memory efficient.\n",
    "2. It is fatser hence, it enhances performance."
   ]
  },
  {
   "cell_type": "code",
   "execution_count": 187,
   "metadata": {},
   "outputs": [],
   "source": [
    "# We are creating a generator that generates the square of a number in the range [Start,End]\n",
    "def sqr_range(start,end):\n",
    "    while start < end:\n",
    "        yield start**2\n",
    "        start += 1"
   ]
  },
  {
   "cell_type": "code",
   "execution_count": 188,
   "metadata": {},
   "outputs": [],
   "source": [
    "# Now a generator object is created.\n",
    "squared = sqr_range(1,10)"
   ]
  },
  {
   "cell_type": "code",
   "execution_count": 189,
   "metadata": {},
   "outputs": [
    {
     "name": "stdout",
     "output_type": "stream",
     "text": [
      "1\n",
      "4\n",
      "9\n",
      "16\n",
      "25\n",
      "36\n",
      "49\n",
      "64\n",
      "81\n"
     ]
    }
   ],
   "source": [
    "for x in sqr_range(1,10):\n",
    "    print(x)"
   ]
  },
  {
   "cell_type": "code",
   "execution_count": 190,
   "metadata": {},
   "outputs": [],
   "source": [
    "# Now making a generator as a list comprehension\n",
    "sqr_nums= [x*x for x in range(1,10)]"
   ]
  },
  {
   "cell_type": "code",
   "execution_count": 191,
   "metadata": {},
   "outputs": [
    {
     "name": "stdout",
     "output_type": "stream",
     "text": [
      "[1, 4, 9, 16, 25, 36, 49, 64, 81]\n"
     ]
    }
   ],
   "source": [
    "print(sqr_nums)"
   ]
  },
  {
   "cell_type": "code",
   "execution_count": 192,
   "metadata": {},
   "outputs": [],
   "source": [
    "# Now we will make a function that will be a generator of the fibonacci sequence.\n",
    "def gen_fib(n):\n",
    "    a=0\n",
    "    b=1\n",
    "    for i in range(n):\n",
    "        yield a\n",
    "        a,b = b,a+b"
   ]
  },
  {
   "cell_type": "code",
   "execution_count": 194,
   "metadata": {},
   "outputs": [
    {
     "name": "stdout",
     "output_type": "stream",
     "text": [
      "0\n",
      "1\n",
      "1\n",
      "2\n",
      "3\n",
      "5\n",
      "8\n",
      "13\n",
      "21\n",
      "34\n",
      "55\n",
      "89\n",
      "144\n",
      "233\n",
      "377\n"
     ]
    }
   ],
   "source": [
    "for value_fib in gen_fib(15):\n",
    "    print(value_fib)"
   ]
  }
 ],
 "metadata": {
  "kernelspec": {
   "display_name": "Python 3",
   "language": "python",
   "name": "python3"
  },
  "language_info": {
   "codemirror_mode": {
    "name": "ipython",
    "version": 3
   },
   "file_extension": ".py",
   "mimetype": "text/x-python",
   "name": "python",
   "nbconvert_exporter": "python",
   "pygments_lexer": "ipython3",
   "version": "3.7.3"
  }
 },
 "nbformat": 4,
 "nbformat_minor": 2
}
